{
 "cells": [
  {
   "cell_type": "code",
   "execution_count": 1,
   "metadata": {},
   "outputs": [
    {
     "name": "stdout",
     "output_type": "stream",
     "text": [
      "Using HTTP proxy http://proxy.charite.de:8080\n"
     ]
    }
   ],
   "source": [
    "import requests\n",
    "import time\n",
    "import os\n",
    "from bs4 import BeautifulSoup\n",
    "import itertools\n",
    "import pandas\n",
    "proxies = {'http': 'http://proxy.charite.de:8080',\n",
    "           'https': 'https://proxy.charite.de:8080'}\n",
    "print(\"Using HTTP proxy %s\" % proxies['http'])"
   ]
  },
  {
   "cell_type": "code",
   "execution_count": 2,
   "metadata": {},
   "outputs": [],
   "source": [
    "# get the list\n",
    "list_PIs = []\n",
    "with open('PIs.txt') as fin:\n",
    "    for line in fin:\n",
    "        list_PIs.append(line)"
   ]
  },
  {
   "cell_type": "code",
   "execution_count": 4,
   "metadata": {},
   "outputs": [
    {
     "name": "stdout",
     "output_type": "stream",
     "text": [
      "Nina+Romanczuk-Seiferth[author]\n"
     ]
    }
   ],
   "source": [
    "# print one item of list\n",
    "print(list_PIs[10])\n",
    "\n",
    "# add a plus between name and last name\n",
    "for ll in range(0,len(list_PIs)-1):\n",
    "    list_PIs[ll] = list_PIs[ll].replace(' ','+')\n",
    "    list_PIs[ll] = list_PIs[ll].replace('\\n','')\n",
    "    list_PIs[ll] = list_PIs[ll] + '[author]'\n"
   ]
  },
  {
   "cell_type": "code",
   "execution_count": 5,
   "metadata": {},
   "outputs": [
    {
     "name": "stdout",
     "output_type": "stream",
     "text": [
      "40\n"
     ]
    }
   ],
   "source": [
    "print(len(list_PIs))"
   ]
  },
  {
   "cell_type": "code",
   "execution_count": 6,
   "metadata": {},
   "outputs": [
    {
     "name": "stdout",
     "output_type": "stream",
     "text": [
      "780\n"
     ]
    }
   ],
   "source": [
    "# get combinations of authors\n",
    "comb_list = list(itertools.combinations(list_PIs,2))\n",
    "print(len(comb_list))"
   ]
  },
  {
   "cell_type": "code",
   "execution_count": 7,
   "metadata": {},
   "outputs": [
    {
     "name": "stdout",
     "output_type": "stream",
     "text": [
      "Christine+Heim[author][author]+AND+Christian+Beste[author][author]\n"
     ]
    }
   ],
   "source": [
    "# make the query string\n",
    "query_strings = []\n",
    "for counter, ll in enumerate(comb_list):\n",
    "    query_strings.append(ll[0] + '+AND+' + ll[1])\n",
    "    \n",
    "print(query_strings[30])\n"
   ]
  },
  {
   "cell_type": "code",
   "execution_count": 8,
   "metadata": {},
   "outputs": [
    {
     "name": "stdout",
     "output_type": "stream",
     "text": [
      "https://eutils.ncbi.nlm.nih.gov/entrez/eutils/esearch.fcgi?db=pubmed&term=Christine+Heim[author][author]+AND+Christian+Beste[author][author]\n"
     ]
    }
   ],
   "source": [
    "# make th url data base query\n",
    "url_queries = []\n",
    "\n",
    "for counter, ll in enumerate(query_strings):\n",
    "    url_queries.append('https://eutils.ncbi.nlm.nih.gov/entrez/eutils/esearch.fcgi?db=pubmed&term=' + ll)\n",
    "    \n",
    "print(url_queries[30])\n",
    "\n"
   ]
  },
  {
   "cell_type": "code",
   "execution_count": 9,
   "metadata": {},
   "outputs": [
    {
     "name": "stdout",
     "output_type": "stream",
     "text": [
      "0\n",
      "1\n",
      "2\n",
      "3\n"
     ]
    },
    {
     "ename": "KeyboardInterrupt",
     "evalue": "",
     "output_type": "error",
     "traceback": [
      "\u001b[1;31m---------------------------------------------------------------------------\u001b[0m",
      "\u001b[1;31mKeyboardInterrupt\u001b[0m                         Traceback (most recent call last)",
      "\u001b[1;32m<ipython-input-9-2f42a0a1b8fd>\u001b[0m in \u001b[0;36m<module>\u001b[1;34m()\u001b[0m\n\u001b[0;32m     14\u001b[0m         \u001b[1;32mbreak\u001b[0m\u001b[1;33m\u001b[0m\u001b[0m\n\u001b[0;32m     15\u001b[0m     \u001b[0mall_counts\u001b[0m\u001b[1;33m.\u001b[0m\u001b[0mappend\u001b[0m\u001b[1;33m(\u001b[0m\u001b[0mcounts\u001b[0m\u001b[1;33m[\u001b[0m\u001b[1;36m0\u001b[0m\u001b[1;33m]\u001b[0m\u001b[1;33m.\u001b[0m\u001b[0mget_text\u001b[0m\u001b[1;33m(\u001b[0m\u001b[1;33m)\u001b[0m\u001b[1;33m)\u001b[0m\u001b[1;33m\u001b[0m\u001b[0m\n\u001b[1;32m---> 16\u001b[1;33m     \u001b[0mtime\u001b[0m\u001b[1;33m.\u001b[0m\u001b[0msleep\u001b[0m\u001b[1;33m(\u001b[0m\u001b[1;36m1\u001b[0m\u001b[1;33m)\u001b[0m\u001b[1;33m\u001b[0m\u001b[0m\n\u001b[0m\u001b[0;32m     17\u001b[0m \u001b[1;33m\u001b[0m\u001b[0m\n\u001b[0;32m     18\u001b[0m     \u001b[1;31m# get the papers\u001b[0m\u001b[1;33m\u001b[0m\u001b[1;33m\u001b[0m\u001b[0m\n",
      "\u001b[1;31mKeyboardInterrupt\u001b[0m: "
     ]
    }
   ],
   "source": [
    "# call all urls and get the number of results\n",
    "all_counts = []\n",
    "all_papers = []\n",
    "for counter, curURL in enumerate(url_queries):\n",
    "    s      = requests.session()\n",
    "    r      = s.get(curURL,proxies=proxies)\n",
    "    soup   = BeautifulSoup(r.text,\"html5lib\")\n",
    "    \n",
    "    # get the counts\n",
    "    counts = soup.find_all(\"count\")\n",
    "    print(counter)\n",
    "    if len(counts) == 0:\n",
    "        print(soup)\n",
    "        break\n",
    "    all_counts.append(counts[0].get_text())\n",
    "    time.sleep(1)\n",
    "    \n",
    "    # get the papers\n",
    "    papers = soup.find_all(\"id\")\n",
    "    for counter, cur_paper in enumerate(papers):\n",
    "        all_papers.append(papers[counter].get_text())\n",
    "    \n",
    "\n",
    "    "
   ]
  },
  {
   "cell_type": "code",
   "execution_count": 45,
   "metadata": {},
   "outputs": [
    {
     "name": "stdout",
     "output_type": "stream",
     "text": [
      "{'18703319', '27374936', '25582269', '12645817', '29169660', '28798371', '22767373', '28671956', '30302403', '28740821', '30410047', '24756342', '27974817', '27909319', '30249471', '20673876', '25035082', '24470632', '29662068', '26433217', '30268001', '21790907', '27810934', '27086240', '29058369', '28491495', '27791105', '25566131', '24642287', '24060832', '28174031', '26982326', '30269148', '27415603', '25833034', '21309952', '28207073', '27079174', '26463560', '21262256', '26258487', '19581569', '17488322', '28649313', '12555235', '20570115', '23466521', '24254424', '29860087', '18606955', '23679679', '23564736', '22330316', '19490027', '27751654', '24283978', '25526597', '24176673', '27697987', '28589968', '26573969', '30583245', '24802075', '30111185', '24166646', '27694318', '29953935', '29656430', '26276438', '26900791', '27031567', '16899037', '14702246', '27145766', '27300740', '24079538', '25639749', '22520437', '27405334', '29050056', '24265700', '25913102', '25819024', '24894884', '24328842', '24366676', '17157270', '24262376', '30729426', '22913370', '29343230', '29557190', '14573320', '21416563', '30016467', '22566584', '21835244', '28860577', '24622944', '25127086', '29792587', '17209157', '26046352', '24745955', '22805228', '30561790', '28950395', '23469861', '12554605', '30347280', '29274748', '26068849', '25697860', '20201927', '30034351', '28398011', '15279056', '26043348', '29901528', '27180911', '23652383', '24710917', '30842733', '25988224', '22978651', '23085443', '27903053', '17521924', '22569752', '26573970', '20731637', '26216521', '27062383', '30388260', '26435383', '18626274', '29090683', '30664633', '24831391', '27790108', '27445891', '29985185', '29383684', '30468293', '19195646', '23595762', '28098162', '22294508', '25136310', '27345375', '27623191', '27510425', '29872112', '29180955', '29197086', '24411473', '25118701', '19828259', '25618593', '27628616', '27798176', '23911256', '24247043', '25085607', '30770893', '29984874', '28221370', '19268544', '29930110', '23288874', '21392171', '28958479', '18202844', '20331560', '28294134', '26341902', '21254164', '26093849', '28673442', '23223532', '23967320', '26401776', '20670348', '28969352', '25146961', '23604335', '16154709', '26342627', '28334488', '29313106', '19950195', '18978778', '30390016', '25971590', '19268548', '29563889', '22339903', '30643026', '15465974', '22965696', '21234373', '30657658', '24973896', '21888983', '26343988', '21521423', '23481259', '26942321', '16950215', '24223669', '23673048', '29325115', '25622039', '26545614', '24828276', '26180188', '29172115', '25505652', '27397863', '25142177', '22504417', '28577550', '24240495', '30257014', '23231446', '20679588', '26837851', '24147643', '28157104', '28098946', '23407939', '21633380', '12410778', '19419772', '27145286', '30384283', '25009315', '30108313', '26679926', '18463629', '27130821', '25268790', '25359492', '18647397', '28978249', '21219934', '22076840', '30096179', '25421512', '30481342', '24055506', '22113088', '12417965', '26903621', '28642696', '26078198', '20334723', '17291784', '25445785', '27645501', '19387615', '27046110', '18634888', '21040237', '27569184', '28768322', '30721969', '24291614', '27399593', '22159129', '25229205', '25567763', '28870854', '15127179', '21697947', '27986430', '30482948', '24754423', '30240509', '24478360', '24194795', '23712308', '27726253', '30649180', '24979789', '29744956', '22974271', '29482042', '27092175', '26048580', '30542059', '28066200', '30804326', '26601726', '26401296', '28578155', '27001827', '29176580', '23989299', '24011820', '30748046', '25505646', '28470180', '20547424', '25122193', '26448497', '30104163', '21298512', '30068662', '28302261', '25359491', '19407193', '30193989', '24493842', '15592465', '30043457', '29980424', '26771165', '20012021', '25937240', '19170666', '28822300', '23473989', '28714907', '24633348', '25605941', '23902982', '24139146', '28626229', '22544311', '25655154', '28317230', '23297009', '25414648', '24903627', '30725114', '28556577', '29317605', '24473101', '30166545', '20580649', '29909784', '20123026', '19840776', '25685655', '26879624', '30108607', '24713612', '27132494', '27141854', '19385010', '27905406', '21955931', '29301099', '28653748', '22775799', '28261068', '30704862', '28512009', '29901562', '20434489', '26742861', '23056533', '20044075', '24326516', '24850422', '19603410', '24636458', '30073329', '25607358', '30816793', '20189356', '28556306', '27694991', '26431882', '22868938', '23624743', '29730700', '30672054', '29025688', '26612384', '20813242', '12629533', '26482880', '29560869', '22461323', '26308966', '27169782', '22762522', '29912404', '25197092', '29204686', '23611537', '23108370', '27883964', '26392368', '30796528', '30186125', '30320294', '29847018', '25043041', '25848050', '28167616', '25530415', '24882161', '25994077', '21376724', '26178527', '27069382', '26557064', '26096546', '27199706', '29948189', '24040111', '27824691', '27049774', '26170296', '28161654', '27240677', '27301429', '25420125', '30496527', '21292243', '30380518', '26697826', '19828462', '17996464', '25896493', '24800784', '19133968', '28649312', '24314346', '21835050', '17568567', '19904802', '28243713', '20648632', '29752589', '30587400', '25546072', '30459577', '23779257', '28578924', '23684479', '29560923', '28981875', '25906795', '21262856', '25684052', '26718285', '24399358', '30585373', '26194892', '21606649', '21926423', '25284303', '23800328', '15630073', '28226201', '25505659', '25892719', '27374135', '20952458', '20586535', '26289945', '19560123', '26107161', '29033798', '19941895', '24880580', '24081303', '28182202', '25119145', '21828288', '26667844', '24740491', '28575049', '23551272', '27397865', '27819466', '26224858', '25578799', '27890540', '27445211', '16084857', '27770284', '30525907', '30258131', '22584873', '20946959', '27480622', '28768888', '22710957', '29483279', '24345793', '26743466', '30497842', '21907974', '22451930', '26241850', '22689280', '26579055', '30561794', '24801222', '26134644', '23808660', '27917451', '25075647', '22344813', '24005303', '25019681', '30539230', '23778853', '25269022', '25662093', '29684438', '17407505', '24589296', '29066804', '25315195', '25089803', '22869222', '28905640', '19291010', '23784668', '25331606', '24398943', '27017430', '24560581', '27367210', '29889330', '29768276', '27096667', '27812328', '29453011', '30243576', '23201753', '25123348', '28488021', '30217552', '25828702', '30342978', '26324898', '25982659', '28604818', '25003028', '19448852', '28111829', '26407493', '12893421', '28754779', '21599718', '27013998', '12401557', '20585760', '25338631', '24273076', '25442002'}\n",
      " \n",
      "We have 558 joint publications.\n",
      "We have 1767 nonunique publications.\n"
     ]
    }
   ],
   "source": [
    "# check result\n",
    "#print(query_strings[0:5])\n",
    "#print(all_counts)\n",
    "#print(all_papers)\n",
    "\n",
    "#print(comb_list[0])\n",
    "\n",
    "# get the unique joint papers\n",
    "unique_papers = set(all_papers)\n",
    "\n",
    "print(unique_papers)\n",
    "\n",
    "# print the number of joint publications\n",
    "print(' ')\n",
    "print('We have ' + str(len(unique_papers)) + ' joint publications.')\n",
    "print('We have ' + str(len(all_papers)) + ' nonunique publications.')"
   ]
  },
  {
   "cell_type": "code",
   "execution_count": 46,
   "metadata": {},
   "outputs": [
    {
     "name": "stdout",
     "output_type": "stream",
     "text": [
      "Florian Schlagenhauf\n"
     ]
    }
   ],
   "source": [
    "# define function for cleaning string\n",
    "def clean_string(cur_str):\n",
    "    cur_str = cur_str.replace('[author]','')\n",
    "    cur_str = cur_str.replace('+',' ')\n",
    "    return(cur_str)\n",
    "\n",
    "# prepare columns for output file\n",
    "first_author  = []\n",
    "second_author = []\n",
    "\n",
    "print(clean_string(comb_list[2][1]))\n",
    "for counter, item in enumerate(comb_list):\n",
    "    first_author.append(clean_string(comb_list[counter][0]))\n",
    "    second_author.append(clean_string(comb_list[counter][1]))\n",
    "    \n",
    "    "
   ]
  },
  {
   "cell_type": "code",
   "execution_count": 47,
   "metadata": {},
   "outputs": [],
   "source": [
    "# make a data frame ready for printing\n",
    "df = pandas.DataFrame({'FirstAuthor': first_author, 'SecondAuthor': second_author,\n",
    "                      'common_pubs': all_counts})\n",
    "df\n",
    "\n",
    "writer = pandas.ExcelWriter('wermitwem.xlsx')\n",
    "df.to_excel(writer,'Sheet1')\n",
    "writer.save()\n"
   ]
  }
 ],
 "metadata": {
  "kernelspec": {
   "display_name": "Python 3",
   "language": "python",
   "name": "python3"
  },
  "language_info": {
   "codemirror_mode": {
    "name": "ipython",
    "version": 3
   },
   "file_extension": ".py",
   "mimetype": "text/x-python",
   "name": "python",
   "nbconvert_exporter": "python",
   "pygments_lexer": "ipython3",
   "version": "3.5.5"
  }
 },
 "nbformat": 4,
 "nbformat_minor": 2
}
